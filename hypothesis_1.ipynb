{
 "cells": [
  {
   "cell_type": "markdown",
   "metadata": {},
   "source": [
    "\n",
    "#  Hypothesis: \n",
    "Countries with diverse portfolios of renewable energy sources, incorporating multiple technologies like solar, wind, and hydroelectric power, demonstrate lower carbon intensity (carbon emissions per unit of energy produced) compared to countries relying predominantly on a single renewable energy source.\n",
    "\n",
    "Analysis plan:\n",
    "\n",
    "Step 1: Prepare data\n",
    "Get Energy Generation, Capacity and Generation intensity of each techonolgy in each year\n",
    "Calculate growth rate of each technology during each year\n",
    "\n",
    "Step 2: Using t-test or ANOVA to confirm/reject the hypothesis \n",
    "\n",
    "Step 3: Visualisation\n",
    "\n",
    "Visualized data in Tableau\n",
    "\n"
   ]
  },
  {
   "cell_type": "markdown",
   "metadata": {},
   "source": [
    "# Import necessary library"
   ]
  },
  {
   "cell_type": "code",
   "execution_count": 1,
   "metadata": {},
   "outputs": [],
   "source": [
    "import pandas as pd\n",
    "import seaborn as sns\n",
    "import matplotlib.pyplot as plt \n",
    "import numpy as np\n",
    "from scipy.stats import pearsonr\n",
    "from scipy import stats\n",
    "%matplotlib inline\n",
    "import warnings\n",
    "warnings.simplefilter(action='ignore', category=FutureWarning)\n",
    "import statsmodels.api as sm\n",
    "import statsmodels.formula.api as smf\n",
    "import config as cf\n",
    "import sql_functions as sf"
   ]
  },
  {
   "cell_type": "markdown",
   "metadata": {},
   "source": [
    "# Discover trend"
   ]
  },
  {
   "cell_type": "markdown",
   "metadata": {},
   "source": [
    "## generation intensity\n"
   ]
  },
  {
   "cell_type": "code",
   "execution_count": 2,
   "metadata": {},
   "outputs": [],
   "source": [
    "# Get generation intensity data frame from Postgresql\n",
    "schema= \"capstone_renewable_energy\"\n",
    "table_name = \"generation_intensity\"\n",
    "sql_query = f'SELECT * FROM {schema}.{table_name};'\n",
    "gen_intensity_total = sf.get_dataframe(sql_query)\n",
    "gen_intensity_total['year'] = gen_intensity_total['year'].dt.year"
   ]
  },
  {
   "cell_type": "code",
   "execution_count": 3,
   "metadata": {},
   "outputs": [
    {
     "data": {
      "text/html": [
       "<div>\n",
       "<style scoped>\n",
       "    .dataframe tbody tr th:only-of-type {\n",
       "        vertical-align: middle;\n",
       "    }\n",
       "\n",
       "    .dataframe tbody tr th {\n",
       "        vertical-align: top;\n",
       "    }\n",
       "\n",
       "    .dataframe thead th {\n",
       "        text-align: right;\n",
       "    }\n",
       "</style>\n",
       "<table border=\"1\" class=\"dataframe\">\n",
       "  <thead>\n",
       "    <tr style=\"text-align: right;\">\n",
       "      <th></th>\n",
       "      <th>year</th>\n",
       "      <th>type</th>\n",
       "      <th>electricity_generation_gwh</th>\n",
       "      <th>electricity_capacity_mw</th>\n",
       "      <th>generation_intensity</th>\n",
       "      <th>gen_growth_rate</th>\n",
       "    </tr>\n",
       "  </thead>\n",
       "  <tbody>\n",
       "    <tr>\n",
       "      <th>0</th>\n",
       "      <td>2000</td>\n",
       "      <td>Biofuels</td>\n",
       "      <td>128118.622</td>\n",
       "      <td>24765.240</td>\n",
       "      <td>5.173324</td>\n",
       "      <td>1.000000</td>\n",
       "    </tr>\n",
       "    <tr>\n",
       "      <th>1</th>\n",
       "      <td>2000</td>\n",
       "      <td>Geothermal</td>\n",
       "      <td>52571.035</td>\n",
       "      <td>8272.700</td>\n",
       "      <td>6.354761</td>\n",
       "      <td>1.000000</td>\n",
       "    </tr>\n",
       "    <tr>\n",
       "      <th>2</th>\n",
       "      <td>2000</td>\n",
       "      <td>Hydropower</td>\n",
       "      <td>2614270.604</td>\n",
       "      <td>697169.998</td>\n",
       "      <td>3.749832</td>\n",
       "      <td>1.000000</td>\n",
       "    </tr>\n",
       "    <tr>\n",
       "      <th>3</th>\n",
       "      <td>2000</td>\n",
       "      <td>Others</td>\n",
       "      <td>18438.738</td>\n",
       "      <td>3803.130</td>\n",
       "      <td>4.848306</td>\n",
       "      <td>1.000000</td>\n",
       "    </tr>\n",
       "    <tr>\n",
       "      <th>4</th>\n",
       "      <td>2000</td>\n",
       "      <td>Solar</td>\n",
       "      <td>1330.912</td>\n",
       "      <td>1224.691</td>\n",
       "      <td>1.086733</td>\n",
       "      <td>1.000000</td>\n",
       "    </tr>\n",
       "    <tr>\n",
       "      <th>...</th>\n",
       "      <td>...</td>\n",
       "      <td>...</td>\n",
       "      <td>...</td>\n",
       "      <td>...</td>\n",
       "      <td>...</td>\n",
       "      <td>...</td>\n",
       "    </tr>\n",
       "    <tr>\n",
       "      <th>156</th>\n",
       "      <td>2022</td>\n",
       "      <td>Hydropower</td>\n",
       "      <td>1423853.885</td>\n",
       "      <td>1260882.706</td>\n",
       "      <td>1.129252</td>\n",
       "      <td>-0.667087</td>\n",
       "    </tr>\n",
       "    <tr>\n",
       "      <th>157</th>\n",
       "      <td>2022</td>\n",
       "      <td>Others</td>\n",
       "      <td>53696.999</td>\n",
       "      <td>20916.082</td>\n",
       "      <td>2.567259</td>\n",
       "      <td>-0.378979</td>\n",
       "    </tr>\n",
       "    <tr>\n",
       "      <th>158</th>\n",
       "      <td>2022</td>\n",
       "      <td>Solar</td>\n",
       "      <td>442904.326</td>\n",
       "      <td>1073135.531</td>\n",
       "      <td>0.412720</td>\n",
       "      <td>-0.571664</td>\n",
       "    </tr>\n",
       "    <tr>\n",
       "      <th>159</th>\n",
       "      <td>2022</td>\n",
       "      <td>Total Renewable</td>\n",
       "      <td>2815483.910</td>\n",
       "      <td>3396323.388</td>\n",
       "      <td>0.828980</td>\n",
       "      <td>-0.641616</td>\n",
       "    </tr>\n",
       "    <tr>\n",
       "      <th>160</th>\n",
       "      <td>2022</td>\n",
       "      <td>Wind</td>\n",
       "      <td>782992.642</td>\n",
       "      <td>901230.776</td>\n",
       "      <td>0.868804</td>\n",
       "      <td>-0.574036</td>\n",
       "    </tr>\n",
       "  </tbody>\n",
       "</table>\n",
       "<p>161 rows × 6 columns</p>\n",
       "</div>"
      ],
      "text/plain": [
       "     year             type  electricity_generation_gwh  \\\n",
       "0    2000         Biofuels                  128118.622   \n",
       "1    2000       Geothermal                   52571.035   \n",
       "2    2000       Hydropower                 2614270.604   \n",
       "3    2000           Others                   18438.738   \n",
       "4    2000            Solar                    1330.912   \n",
       "..    ...              ...                         ...   \n",
       "156  2022       Hydropower                 1423853.885   \n",
       "157  2022           Others                   53696.999   \n",
       "158  2022            Solar                  442904.326   \n",
       "159  2022  Total Renewable                 2815483.910   \n",
       "160  2022             Wind                  782992.642   \n",
       "\n",
       "     electricity_capacity_mw  generation_intensity  gen_growth_rate  \n",
       "0                  24765.240              5.173324         1.000000  \n",
       "1                   8272.700              6.354761         1.000000  \n",
       "2                 697169.998              3.749832         1.000000  \n",
       "3                   3803.130              4.848306         1.000000  \n",
       "4                   1224.691              1.086733         1.000000  \n",
       "..                       ...                   ...              ...  \n",
       "156              1260882.706              1.129252        -0.667087  \n",
       "157                20916.082              2.567259        -0.378979  \n",
       "158              1073135.531              0.412720        -0.571664  \n",
       "159              3396323.388              0.828980        -0.641616  \n",
       "160               901230.776              0.868804        -0.574036  \n",
       "\n",
       "[161 rows x 6 columns]"
      ]
     },
     "execution_count": 3,
     "metadata": {},
     "output_type": "execute_result"
    }
   ],
   "source": [
    "# add the growth rate column\n",
    "gen_intensity_total[\"gen_growth_rate\"] = 1\n",
    "years = gen_intensity_total.year.unique().tolist()\n",
    "types_list = gen_intensity_total.type.unique().tolist()\n",
    "for i in range(1, len(years)):\n",
    "    for j in types_list: \n",
    "        current_gen = gen_intensity_total.loc[(gen_intensity_total[\"year\"] == years[i])\\\n",
    "                                              & (gen_intensity_total[\"type\"] == j), \"electricity_generation_gwh\"].values[0]\n",
    "\n",
    "        previous_gen = gen_intensity_total.loc[(gen_intensity_total[\"year\"] == years[i-1])\\\n",
    "                                              & (gen_intensity_total[\"type\"] == j), \"electricity_generation_gwh\"].values[0]\n",
    "        gen_intensity_total.loc[(gen_intensity_total[\"year\"] == years[i])\\\n",
    "                                              & (gen_intensity_total[\"type\"] == j), \"gen_growth_rate\"] = (current_gen-previous_gen)/previous_gen\n",
    "gen_intensity_total"
   ]
  },
  {
   "cell_type": "code",
   "execution_count": 134,
   "metadata": {},
   "outputs": [
    {
     "name": "stdout",
     "output_type": "stream",
     "text": [
      "T-test p-value for solar vs Biofuels: 0.0032213179027520537\n",
      "T-test p-value for solar vs Geothermal: 5.3143016007552044e-05\n",
      "T-test p-value for solar vs Hydropower: 0.0028926080186438374\n",
      "T-test p-value for solar vs Others: nan\n",
      "T-test p-value for solar vs Total Renewable: 0.0013649885094761019\n",
      "T-test p-value for solar vs Wind: 0.011740167967093786\n",
      "\n",
      "ANOVA p-value for comparing growth rates of all energy types: nan\n"
     ]
    },
    {
     "name": "stderr",
     "output_type": "stream",
     "text": [
      "/var/folders/hx/_2z7hvzn1vd1d_smlbfzlbhc0000gn/T/ipykernel_3992/279933269.py:4: RuntimeWarning: divide by zero encountered in scalar divide\n",
      "  return (values.iloc[-1] / values.iloc[0]) ** (1 / len(values)) - 1\n",
      "/opt/homebrew/Caskroom/miniconda/base/envs/nf_sql/lib/python3.9/site-packages/scipy/stats/_stats_py.py:4137: RuntimeWarning: invalid value encountered in subtract\n",
      "  alldata -= offset\n",
      "/opt/homebrew/Caskroom/miniconda/base/envs/nf_sql/lib/python3.9/site-packages/scipy/stats/_stats_py.py:4145: RuntimeWarning: invalid value encountered in subtract\n",
      "  ssbn += _square_of_sums(sample - offset,\n"
     ]
    }
   ],
   "source": [
    "# Inferential Statistics - Hypothesis Testing\n",
    "# Define function to calculate growth rate\n",
    "def calculate_growth_rate(values):\n",
    "    return (values.iloc[-1] / values.iloc[0]) ** (1 / len(values)) - 1\n",
    "\n",
    "# Calculate growth rates for each energy type\n",
    "growth_rates = gen_intensity.groupby('type').agg({'electricity_generation_gwh': calculate_growth_rate,\n",
    "                                                   'electricity_capacity_mw': calculate_growth_rate})\n",
    "\n",
    "# Separate solar energy growth rates\n",
    "solar_growth_rates = growth_rates.loc['Solar']\n",
    "\n",
    "# Perform t-test to compare solar growth rates with other energy types\n",
    "for energy_type, growth_rate in growth_rates.iterrows():\n",
    "    if energy_type != 'Solar':\n",
    "        _, p_value = stats.ttest_ind(solar_growth_rates, growth_rate)\n",
    "        print(f\"T-test p-value for solar vs {energy_type}: {p_value}\")\n",
    "\n",
    "# Perform ANOVA test to compare growth rates of all energy types (using Annova instead of t-test since we are comparing solar energy with more than 1 other variables)\n",
    "_, p_value_anova = stats.f_oneway(*[growth_rates.loc[energy_type] for energy_type in growth_rates.index])\n",
    "print(f\"\\nANOVA p-value for comparing growth rates of all energy types: {p_value_anova}\")"
   ]
  },
  {
   "cell_type": "code",
   "execution_count": 133,
   "metadata": {},
   "outputs": [
    {
     "name": "stdout",
     "output_type": "stream",
     "text": [
      "T-test p-value for solar vs Biofuels: 0.0029024084009149752\n",
      "T-test p-value for solar vs Geothermal: 0.0002826520209579417\n",
      "T-test p-value for solar vs Hydropower: 0.0028860482151233462\n",
      "T-test p-value for solar vs Others: nan\n",
      "T-test p-value for solar vs Solar: 0.011740167967093759\n",
      "T-test p-value for solar vs Total Renewable: 0.0022362665492986957\n",
      "\n",
      "ANOVA p-value for comparing growth rates of all energy types: nan\n"
     ]
    },
    {
     "name": "stderr",
     "output_type": "stream",
     "text": [
      "/opt/homebrew/Caskroom/miniconda/base/envs/nf_sql/lib/python3.9/site-packages/scipy/stats/_stats_py.py:4137: RuntimeWarning: invalid value encountered in subtract\n",
      "  alldata -= offset\n",
      "/opt/homebrew/Caskroom/miniconda/base/envs/nf_sql/lib/python3.9/site-packages/scipy/stats/_stats_py.py:4145: RuntimeWarning: invalid value encountered in subtract\n",
      "  ssbn += _square_of_sums(sample - offset,\n"
     ]
    }
   ],
   "source": [
    "# Calculating p value for wind:\n",
    "# Separate solar energy growth rates\n",
    "solar_growth_rates = growth_rates.loc['Wind']\n",
    "\n",
    "# Perform t-test to compare solar growth rates with other energy types\n",
    "for energy_type, growth_rate in growth_rates.iterrows():\n",
    "    if energy_type != 'Wind':\n",
    "        _, p_value = stats.ttest_ind(solar_growth_rates, growth_rate)\n",
    "        print(f\"T-test p-value for solar vs {energy_type}: {p_value}\")\n",
    "\n",
    "# Perform ANOVA test to compare growth rates of all energy types (using Annova instead of t-test since we are comparing solar energy with more than 1 other variables)\n",
    "_, p_value_anova = stats.f_oneway(*[growth_rates.loc[energy_type] for energy_type in growth_rates.index])\n",
    "print(f\"\\nANOVA p-value for comparing growth rates of all energy types: {p_value_anova}\")"
   ]
  },
  {
   "cell_type": "markdown",
   "metadata": {},
   "source": [
    "based on the statistical analysis and the p-values obtained from the t-tests, we can conclude that solar energy is growing faster compared to several other renewable energy types. Here's why:\n",
    "\n",
    "Statistical Significance: The p-values for the t-tests comparing solar energy growth rates with other renewable energy types are below the significance level of 0.05 for most comparisons. This indicates that the observed differences in growth rates are unlikely to have occurred by chance alone.\n",
    "\n",
    "Lower P-values: The lower the p-value, the stronger the evidence against the null hypothesis (that there is no difference in growth rates). In this case, the p-values for solar energy vs. biofuels, geothermal, hydropower, total renewable energy, and wind energy are all below 0.05, indicating strong evidence of a difference in growth rates.\n",
    "\n",
    "Consistency: The consistently low p-values across multiple comparisons suggest that solar energy is indeed growing faster compared to various other renewable energy types.\n",
    "\n",
    "Context: While statistical significance is important, it's also essential to consider the practical significance and the context of the analysis. Solar energy's growth rate being statistically significant compared to other energy types indicates that it's a notable trend worth considering in discussions and decision-making regarding renewable energy investments and policies.\n",
    "\n",
    "Based on these points, we can reasonably conclude that solar energy is growing faster compared to several other renewable energy types, as supported by the statistical analysis."
   ]
  },
  {
   "cell_type": "markdown",
   "metadata": {},
   "source": [
    "Given these p-values, we could  chosen a significance level of α = 0.05, you would accept the hypothesis (i.e., conclude that solar energy is growing faster) for all comparisons\n"
   ]
  },
  {
   "cell_type": "code",
   "execution_count": 132,
   "metadata": {},
   "outputs": [
    {
     "name": "stdout",
     "output_type": "stream",
     "text": [
      "The generation growth rate of Biofuels is 88.35%\n",
      "The generation growth rate of Geothermal is 39.18%\n",
      "The generation growth rate of Hydropower is 24.41%\n",
      "The generation growth rate of Others is 119.51%\n",
      "The generation growth rate of Solar is 2959.16%\n",
      "The generation growth rate of Total Renewable is 86.99%\n",
      "The generation growth rate of Wind is 436.16%\n"
     ]
    }
   ],
   "source": [
    "df = gen_intensity_total\n",
    "generation_growth_rates = {}\n",
    "for energy_type in df.type.unique().tolist():\n",
    "    generation_2021 = float(df.loc[(df['year'] == 2021) & (df['type'] == energy_type), 'electricity_generation_gwh'].values[0])\n",
    "    generation_2010 = float(df.loc[(df['year'] == 2010) & (df['type'] == energy_type), 'electricity_generation_gwh'].values[0])\n",
    "    \n",
    "    # Calculate the growth rate\n",
    "    type_growth_rate = ((generation_2021 - generation_2010) / generation_2010) * 100\n",
    "    print(f'The generation growth rate of {energy_type} is {type_growth_rate:.2f}%')"
   ]
  }
 ],
 "metadata": {
  "kernelspec": {
   "display_name": "nf_sql",
   "language": "python",
   "name": "python3"
  },
  "language_info": {
   "codemirror_mode": {
    "name": "ipython",
    "version": 3
   },
   "file_extension": ".py",
   "mimetype": "text/x-python",
   "name": "python",
   "nbconvert_exporter": "python",
   "pygments_lexer": "ipython3",
   "version": "3.9.12"
  }
 },
 "nbformat": 4,
 "nbformat_minor": 2
}
